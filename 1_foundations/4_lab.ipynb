{
 "cells": [
  {
   "cell_type": "code",
   "execution_count": 6,
   "id": "70a7c656",
   "metadata": {},
   "outputs": [],
   "source": [
    "from dotenv import load_dotenv\n",
    "from openai import OpenAI\n",
    "import os\n",
    "import requests"
   ]
  },
  {
   "cell_type": "code",
   "execution_count": 2,
   "id": "d11d8664",
   "metadata": {},
   "outputs": [
    {
     "data": {
      "text/plain": [
       "True"
      ]
     },
     "execution_count": 2,
     "metadata": {},
     "output_type": "execute_result"
    }
   ],
   "source": [
    "load_dotenv(override=True)"
   ]
  },
  {
   "cell_type": "code",
   "execution_count": 9,
   "id": "47b6b5da",
   "metadata": {},
   "outputs": [],
   "source": [
    "pushover_user = os.getenv(\"PUSHOVER_USER\")\n",
    "pushover_token = os.getenv(\"PUSHOVER_TOKEN\")\n",
    "pushover_url = \"https://api.pushover.net/1/messages.json\""
   ]
  },
  {
   "cell_type": "code",
   "execution_count": 10,
   "id": "4c6b56a8",
   "metadata": {},
   "outputs": [],
   "source": [
    "def push(message):\n",
    "    print(\"message\")\n",
    "    payload = {\"user\":pushover_user, \"token\":pushover_token, \"message\":message}\n",
    "    requests.post(pushover_url, data=payload)"
   ]
  },
  {
   "cell_type": "code",
   "execution_count": 12,
   "id": "63d63dc9",
   "metadata": {},
   "outputs": [],
   "source": [
    "# push(\"Hello nish!\")"
   ]
  },
  {
   "cell_type": "code",
   "execution_count": 13,
   "id": "6988163b",
   "metadata": {},
   "outputs": [],
   "source": [
    "def record_user_details(email, name=\"Name not provided\", notes=\"Notes not provided\"):\n",
    "    push(f\"Recording interest from {name} with {email} and {notes}\")\n",
    "    return {\"recorded\":\"ok\"}"
   ]
  },
  {
   "cell_type": "code",
   "execution_count": 15,
   "id": "151bee9f",
   "metadata": {},
   "outputs": [],
   "source": [
    "def record_unknow_question(question):\n",
    "    push(f\"Recording {question} asked that i could not answer.\")\n",
    "    return {\"recorded\":\"ok\"}"
   ]
  },
  {
   "cell_type": "code",
   "execution_count": 16,
   "id": "c9c5d7ff",
   "metadata": {},
   "outputs": [],
   "source": [
    "record_user_details_json = {\n",
    "    \"name\":\"record_user_details\",\n",
    "    \"description\":\"Use this tool to record that user is interested and provided email.\",\n",
    "    \"parameters\":{\n",
    "        \"type\":\"object\",\n",
    "        \"properties\":{\n",
    "            \"email\":{\n",
    "                \"type\":\"string\",\n",
    "                \"description\":\"Email address of this user.\"\n",
    "            },\n",
    "            \"name\":{\n",
    "                \"type\":\"string\",\n",
    "                \"description\":\"The user's name if they provided it.\"\n",
    "            },\n",
    "            \"notes\":{\n",
    "                \"type\":\"string\",\n",
    "                \"description\":\"Any additional information about the conversion worth the recording.\"\n",
    "            }\n",
    "        },\n",
    "        \"required\":[\"email\"],\n",
    "        \"additionalProperties\":False\n",
    "    }\n",
    "}"
   ]
  },
  {
   "cell_type": "code",
   "execution_count": null,
   "id": "bbd6bf07",
   "metadata": {},
   "outputs": [],
   "source": [
    "record_unknow_question_json = {\n",
    "    \"name\":\"record_unknow_question\",\n",
    "    \"description\":\"Always use this tool to record the question which you did not answer as you dont know the answer.\",\n",
    "    \"parameters\":{\n",
    "        \"type\":\"object\",\n",
    "        \"properties\":{\n",
    "            \"questions\":{\n",
    "                \"type\":\"string\",\n",
    "                \"description\":\"The question that could not be answered\"\n",
    "            },\n",
    "        },\n",
    "        \"required\":[\"questions\"],\n",
    "        \"additionalProperties\":False\n",
    "    }\n",
    "}"
   ]
  }
 ],
 "metadata": {
  "kernelspec": {
   "display_name": ".venv",
   "language": "python",
   "name": "python3"
  },
  "language_info": {
   "codemirror_mode": {
    "name": "ipython",
    "version": 3
   },
   "file_extension": ".py",
   "mimetype": "text/x-python",
   "name": "python",
   "nbconvert_exporter": "python",
   "pygments_lexer": "ipython3",
   "version": "3.11.3"
  }
 },
 "nbformat": 4,
 "nbformat_minor": 5
}
