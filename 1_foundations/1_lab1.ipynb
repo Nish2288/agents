{
 "cells": [
  {
   "cell_type": "code",
   "execution_count": 38,
   "id": "10fa8a90",
   "metadata": {},
   "outputs": [],
   "source": [
    "from dotenv import load_dotenv\n",
    "import os\n",
    "from openai import OpenAI\n",
    "from IPython.display import Markdown,display"
   ]
  },
  {
   "cell_type": "code",
   "execution_count": 39,
   "id": "eca1d79f",
   "metadata": {},
   "outputs": [
    {
     "data": {
      "text/plain": [
       "True"
      ]
     },
     "execution_count": 39,
     "metadata": {},
     "output_type": "execute_result"
    }
   ],
   "source": [
    "load_dotenv(override=True)"
   ]
  },
  {
   "cell_type": "code",
   "execution_count": 40,
   "id": "d8dac333",
   "metadata": {},
   "outputs": [],
   "source": [
    "openai_api_key = os.getenv(\"OPENAI_API_KEY\")"
   ]
  },
  {
   "cell_type": "code",
   "execution_count": 41,
   "id": "25e637ed",
   "metadata": {},
   "outputs": [
    {
     "name": "stdout",
     "output_type": "stream",
     "text": [
      "OPENAI API KEY exists.\n"
     ]
    }
   ],
   "source": [
    "if openai_api_key:\n",
    "    print(\"OPENAI API KEY exists.\")\n",
    "else:\n",
    "    print(\"OPENAI API KEY does not exists\")"
   ]
  },
  {
   "cell_type": "code",
   "execution_count": 42,
   "id": "d0e21f94",
   "metadata": {},
   "outputs": [],
   "source": [
    "openai = OpenAI()\n",
    "message =[{\"role\":\"user\", \"content\":\"what is 2+2?\"}]"
   ]
  },
  {
   "cell_type": "code",
   "execution_count": 43,
   "id": "80f9d5e8",
   "metadata": {},
   "outputs": [],
   "source": [
    "response = openai.chat.completions.create(\n",
    "    model=\"gpt-4o-mini\",\n",
    "    messages=message\n",
    ")"
   ]
  },
  {
   "cell_type": "code",
   "execution_count": 44,
   "id": "11fb5741",
   "metadata": {},
   "outputs": [
    {
     "name": "stdout",
     "output_type": "stream",
     "text": [
      "2 + 2 equals 4.\n"
     ]
    }
   ],
   "source": [
    "response = response.choices[0].message.content\n",
    "print(response)"
   ]
  },
  {
   "cell_type": "code",
   "execution_count": 45,
   "id": "b6fdf5a2",
   "metadata": {},
   "outputs": [],
   "source": [
    "question = \"Please propose a hard, challenging question to assess someone's IQ. Respond only with the question.\"\n",
    "message = [{\"role\":\"user\", \"content\":question}]"
   ]
  },
  {
   "cell_type": "code",
   "execution_count": 46,
   "id": "02bb3451",
   "metadata": {},
   "outputs": [],
   "source": [
    "question = openai.chat.completions.create(\n",
    "    model=\"gpt-4o-mini\",\n",
    "    messages=message\n",
    ")"
   ]
  },
  {
   "cell_type": "code",
   "execution_count": 47,
   "id": "1f8ec47a",
   "metadata": {},
   "outputs": [],
   "source": [
    "question=question.choices[0].message.content"
   ]
  },
  {
   "cell_type": "code",
   "execution_count": 48,
   "id": "89e9bcae",
   "metadata": {},
   "outputs": [],
   "source": [
    "messages = [{\"role\": \"user\", \"content\": question}]"
   ]
  },
  {
   "cell_type": "code",
   "execution_count": 49,
   "id": "cef57617",
   "metadata": {},
   "outputs": [],
   "source": [
    "answer = openai.chat.completions.create(\n",
    "    model=\"gpt-4o-mini\",\n",
    "    messages=messages\n",
    ")"
   ]
  },
  {
   "cell_type": "code",
   "execution_count": 50,
   "id": "28d991bf",
   "metadata": {},
   "outputs": [
    {
     "data": {
      "text/plain": [
       "\"Let’s denote the time (in hours) that the first train has traveled when the second train catches up as \\\\( t \\\\). \\n\\nSince the first train leaves the station 5 minutes (which is \\\\( \\\\frac{5}{60} = \\\\frac{1}{12} \\\\) hours) before the second train, the time traveled by the first train will be \\\\( t + \\\\frac{1}{12} \\\\) hours when the second train catches up.\\n\\nThe distance traveled by the first train can be expressed as:\\n\\n\\\\[\\n\\\\text{Distance}_{\\\\text{first}} = \\\\text{Speed}_{\\\\text{first}} \\\\times \\\\text{Time}_{\\\\text{first}} = 60 \\\\times \\\\left( t + \\\\frac{1}{12} \\\\right)\\n\\\\]\\n\\nThe distance traveled by the second train is:\\n\\n\\\\[\\n\\\\text{Distance}_{\\\\text{second}} = \\\\text{Speed}_{\\\\text{second}} \\\\times \\\\text{Time}_{\\\\text{second}} = 75t\\n\\\\]\\n\\nAt the point when the second train catches up to the first train, both distances will be equal:\\n\\n\\\\[\\n60 \\\\left( t + \\\\frac{1}{12} \\\\right) = 75t\\n\\\\]\\n\\nNow, let’s solve for \\\\( t \\\\). Expanding the left side of the equation gives:\\n\\n\\\\[\\n60t + 5 = 75t\\n\\\\]\\n\\nSubtracting \\\\( 60t \\\\) from both sides results in:\\n\\n\\\\[\\n5 = 75t - 60t\\n\\\\]\\n\\\\[\\n5 = 15t\\n\\\\]\\n\\nNow, dividing both sides by 15 gives:\\n\\n\\\\[\\nt = \\\\frac{5}{15} = \\\\frac{1}{3} \\\\text{ hours}\\n\\\\]\\n\\nNow, we can find the distance from the station where the second train catches up. We can use either train's distance formula. We will use the distance of the second train:\\n\\n\\\\[\\n\\\\text{Distance} = 75t = 75 \\\\times \\\\frac{1}{3} = 25 \\\\text{ miles}\\n\\\\]\\n\\nThus, the second train catches up to the first train **25 miles** from the station. \\n\\nThe answer is:\\n\\n\\\\[\\n\\\\boxed{25}\\n\\\\]\""
      ]
     },
     "execution_count": 50,
     "metadata": {},
     "output_type": "execute_result"
    }
   ],
   "source": [
    "answer = answer.choices[0].message.content\n",
    "answer"
   ]
  },
  {
   "cell_type": "code",
   "execution_count": 51,
   "id": "dec42f5b",
   "metadata": {},
   "outputs": [
    {
     "data": {
      "text/markdown": [
       "Let’s denote the time (in hours) that the first train has traveled when the second train catches up as \\( t \\). \n",
       "\n",
       "Since the first train leaves the station 5 minutes (which is \\( \\frac{5}{60} = \\frac{1}{12} \\) hours) before the second train, the time traveled by the first train will be \\( t + \\frac{1}{12} \\) hours when the second train catches up.\n",
       "\n",
       "The distance traveled by the first train can be expressed as:\n",
       "\n",
       "\\[\n",
       "\\text{Distance}_{\\text{first}} = \\text{Speed}_{\\text{first}} \\times \\text{Time}_{\\text{first}} = 60 \\times \\left( t + \\frac{1}{12} \\right)\n",
       "\\]\n",
       "\n",
       "The distance traveled by the second train is:\n",
       "\n",
       "\\[\n",
       "\\text{Distance}_{\\text{second}} = \\text{Speed}_{\\text{second}} \\times \\text{Time}_{\\text{second}} = 75t\n",
       "\\]\n",
       "\n",
       "At the point when the second train catches up to the first train, both distances will be equal:\n",
       "\n",
       "\\[\n",
       "60 \\left( t + \\frac{1}{12} \\right) = 75t\n",
       "\\]\n",
       "\n",
       "Now, let’s solve for \\( t \\). Expanding the left side of the equation gives:\n",
       "\n",
       "\\[\n",
       "60t + 5 = 75t\n",
       "\\]\n",
       "\n",
       "Subtracting \\( 60t \\) from both sides results in:\n",
       "\n",
       "\\[\n",
       "5 = 75t - 60t\n",
       "\\]\n",
       "\\[\n",
       "5 = 15t\n",
       "\\]\n",
       "\n",
       "Now, dividing both sides by 15 gives:\n",
       "\n",
       "\\[\n",
       "t = \\frac{5}{15} = \\frac{1}{3} \\text{ hours}\n",
       "\\]\n",
       "\n",
       "Now, we can find the distance from the station where the second train catches up. We can use either train's distance formula. We will use the distance of the second train:\n",
       "\n",
       "\\[\n",
       "\\text{Distance} = 75t = 75 \\times \\frac{1}{3} = 25 \\text{ miles}\n",
       "\\]\n",
       "\n",
       "Thus, the second train catches up to the first train **25 miles** from the station. \n",
       "\n",
       "The answer is:\n",
       "\n",
       "\\[\n",
       "\\boxed{25}\n",
       "\\]"
      ],
      "text/plain": [
       "<IPython.core.display.Markdown object>"
      ]
     },
     "metadata": {},
     "output_type": "display_data"
    }
   ],
   "source": [
    "display(Markdown(answer))"
   ]
  },
  {
   "cell_type": "code",
   "execution_count": null,
   "id": "3d478e14",
   "metadata": {},
   "outputs": [],
   "source": []
  },
  {
   "cell_type": "markdown",
   "id": "ebfd9cd4",
   "metadata": {},
   "source": [
    "# Exercise"
   ]
  },
  {
   "cell_type": "code",
   "execution_count": 56,
   "id": "a9f590b9",
   "metadata": {},
   "outputs": [],
   "source": [
    "prompt = \"Suggest 1 business area that might be worth exploring for an agentic ai opportunity. Only return name of business area.\"\n",
    "messages = [{\"role\":\"user\",\"content\":prompt}]"
   ]
  },
  {
   "cell_type": "code",
   "execution_count": 57,
   "id": "852243a7",
   "metadata": {},
   "outputs": [],
   "source": [
    "response = openai.chat.completions.create(\n",
    "    model=\"gpt-4o-mini\",\n",
    "    messages=messages\n",
    ")"
   ]
  },
  {
   "cell_type": "code",
   "execution_count": null,
   "id": "146a66ce",
   "metadata": {},
   "outputs": [
    {
     "name": "stdout",
     "output_type": "stream",
     "text": [
      "Personalized healthcare management.\n"
     ]
    }
   ],
   "source": [
    "response = response.choices[0].message.content\n",
    "print(response)"
   ]
  },
  {
   "cell_type": "code",
   "execution_count": 59,
   "id": "ba6a1153",
   "metadata": {},
   "outputs": [],
   "source": [
    "prompt2 = f\"Suggest a pain-point in {response} industry - something challenging that might be ripe for an Agentic solution.\""
   ]
  },
  {
   "cell_type": "code",
   "execution_count": 60,
   "id": "30b4b4e4",
   "metadata": {},
   "outputs": [],
   "source": [
    "messages = [{\"role\":\"user\", \"content\":prompt2}]"
   ]
  },
  {
   "cell_type": "code",
   "execution_count": 71,
   "id": "c312d8b4",
   "metadata": {},
   "outputs": [],
   "source": [
    "response = openai.chat.completions.create(\n",
    "    model=\"gpt-4o-mini\",\n",
    "    messages=messages\n",
    ")"
   ]
  },
  {
   "cell_type": "code",
   "execution_count": 74,
   "id": "0ad6e325",
   "metadata": {},
   "outputs": [
    {
     "data": {
      "text/markdown": [
       "One significant pain-point in personalized healthcare management is the fragmentation of patient data across multiple healthcare providers and systems. Patients often receive care from various specialists, primary care physicians, and healthcare facilities, leading to inconsistent and incomplete health records. This fragmentation can result in:\n",
       "\n",
       "1. **Inefficiencies in Care Coordination**: Healthcare providers may lack access to comprehensive patient histories, which can hinder effective diagnosis and treatment planning.\n",
       "\n",
       "2. **Data Silos**: Different organizations often use incompatible electronic health record (EHR) systems, making it difficult to share information seamlessly.\n",
       "\n",
       "3. **Increased Risks of Errors**: Without a unified view of patient information, there is a higher potential for medication errors, duplicate tests, or oversight of critical health issues.\n",
       "\n",
       "4. **Patient Engagement Challenges**: Patients may find it difficult to manage and share their health information with different providers, leading to a lack of engagement and adherence to their care plans.\n",
       "\n",
       "An Agentic solution could involve developing a secure, interoperable platform that integrates data from various sources (EHRs, wearables, lab results, etc.) and enables real-time access for both patients and healthcare providers. Features could include:\n",
       "\n",
       "- **Smart Aggregation**: Automatically collecting and synthesizing data from various healthcare systems and wearable devices into a comprehensive health profile for each patient.\n",
       "- **Automated Alerts**: Notifying healthcare providers of critical updates or changes in a patient’s health status, facilitating timely intervention.\n",
       "- **Patient-Controlled Data Sharing**: Allowing patients to manage who has access to their health information, thus empowering them and improving engagement.\n",
       "- **AI-Powered Insights**: Using machine learning algorithms to identify patterns and trends in patient data to inform personalized treatment plans.\n",
       "\n",
       "By addressing the data fragmentation issue with a robust Agentic solution, personalized healthcare management could become more cohesive, efficient, and patient-centered, ultimately improving health outcomes."
      ],
      "text/plain": [
       "<IPython.core.display.Markdown object>"
      ]
     },
     "metadata": {},
     "output_type": "display_data"
    }
   ],
   "source": [
    "response2 = response.choices[0].message.content\n",
    "display(Markdown(response2))"
   ]
  },
  {
   "cell_type": "code",
   "execution_count": 77,
   "id": "3dcc7eac",
   "metadata": {},
   "outputs": [
    {
     "name": "stdout",
     "output_type": "stream",
     "text": [
      "Propose Agentic AI solution for: \n",
      "\n",
      "One significant pain-point in personalized healthcare management is the fragmentation of patient data across multiple healthcare providers and systems. Patients often receive care from various specialists, primary care physicians, and healthcare facilities, leading to inconsistent and incomplete health records. This fragmentation can result in:\n",
      "\n",
      "1. **Inefficiencies in Care Coordination**: Healthcare providers may lack access to comprehensive patient histories, which can hinder effective diagnosis and treatment planning.\n",
      "\n",
      "2. **Data Silos**: Different organizations often use incompatible electronic health record (EHR) systems, making it difficult to share information seamlessly.\n",
      "\n",
      "3. **Increased Risks of Errors**: Without a unified view of patient information, there is a higher potential for medication errors, duplicate tests, or oversight of critical health issues.\n",
      "\n",
      "4. **Patient Engagement Challenges**: Patients may find it difficult to manage and share their health information with different providers, leading to a lack of engagement and adherence to their care plans.\n",
      "\n",
      "An Agentic solution could involve developing a secure, interoperable platform that integrates data from various sources (EHRs, wearables, lab results, etc.) and enables real-time access for both patients and healthcare providers. Features could include:\n",
      "\n",
      "- **Smart Aggregation**: Automatically collecting and synthesizing data from various healthcare systems and wearable devices into a comprehensive health profile for each patient.\n",
      "- **Automated Alerts**: Notifying healthcare providers of critical updates or changes in a patient’s health status, facilitating timely intervention.\n",
      "- **Patient-Controlled Data Sharing**: Allowing patients to manage who has access to their health information, thus empowering them and improving engagement.\n",
      "- **AI-Powered Insights**: Using machine learning algorithms to identify patterns and trends in patient data to inform personalized treatment plans.\n",
      "\n",
      "By addressing the data fragmentation issue with a robust Agentic solution, personalized healthcare management could become more cohesive, efficient, and patient-centered, ultimately improving health outcomes.\n"
     ]
    }
   ],
   "source": [
    "prompt3 = \"Propose Agentic AI solution for: \\n\\n\" + response2\n",
    "print(prompt3)"
   ]
  },
  {
   "cell_type": "code",
   "execution_count": 78,
   "id": "3895a2a1",
   "metadata": {},
   "outputs": [],
   "source": [
    "messages = [{\"role\":\"user\", \"content\":prompt3}]"
   ]
  },
  {
   "cell_type": "code",
   "execution_count": 79,
   "id": "3c6d5259",
   "metadata": {},
   "outputs": [],
   "source": [
    "response3 = openai.chat.completions.create(\n",
    "    model=\"gpt-4o-mini\",\n",
    "    messages=messages\n",
    "    \n",
    ")"
   ]
  },
  {
   "cell_type": "code",
   "execution_count": 81,
   "id": "f7017dbf",
   "metadata": {},
   "outputs": [
    {
     "data": {
      "text/markdown": [
       "To address the significant challenges posed by the fragmentation of patient data in personalized healthcare management, the proposed Agentic AI solution can be further expanded to include specific functionality, roles, and technologies that ensure a seamless and integrated healthcare experience. The solution could be called the **\"HealthSynergy AI Platform.\"**\n",
       "\n",
       "### HealthSynergy AI Platform\n",
       "\n",
       "#### Key Features:\n",
       "\n",
       "1. **Unified Patient Data Repository**:\n",
       "   - **Interoperable Data Standards**: Utilize standards such as FHIR (Fast Healthcare Interoperability Resources) to ensure compatibility across different EHR systems.\n",
       "   - **Cloud-Based Data Lake**: Centralized storage that securely aggregates patient data, making it accessible to authorized users while maintaining privacy.\n",
       "\n",
       "2. **Smart Aggregation**:\n",
       "   - **Real-Time Data Integration**: Employ APIs to automatically pull data from EHRs, wearables, and lab systems, providing a holistic view of patient health.\n",
       "   - **Data Visualization Dashboards**: Interactive interfaces for both healthcare providers and patients to easily navigate their health metrics and history.\n",
       "\n",
       "3. **Automated Alerts and Notifications**:\n",
       "   - **Critical Health Events Alerts**: Machine learning algorithms detect significant changes in health data (e.g., lab results, medication adherence) and notify relevant healthcare professionals instantly.\n",
       "   - **Personalized Reminders**: Automated reminders for patients regarding medication schedules, follow-up appointments, and preventive screenings.\n",
       "\n",
       "4. **Patient-Controlled Data Sharing**:\n",
       "   - **Granular Permissions**: Patients can specify which data elements to share with which providers, ensuring transparency and control over their health information.\n",
       "   - **Secure Patient Portal**: An intuitive platform where patients can view their health records, share information with their healthcare team, and access educational resources.\n",
       "\n",
       "5. **AI-Powered Insights**:\n",
       "   - **Predictive Analytics**: Leverage machine learning to analyze historical patient data, identifying trends that may predict health risks or suggest preventive measures.\n",
       "   - **Personalized Treatment Recommendations**: AI algorithms analyze current data and evidence-based guidelines to offer tailored treatment plans, enhancing patient outcomes.\n",
       "\n",
       "6. **Integrated Communication Tools**:\n",
       "   - **Secure Messaging**: Enabling direct communications between patients and providers, promoting discussions regarding care plans and concerns.\n",
       "   - **Telehealth Integration**: Seamlessly incorporate telemedicine capabilities for remote consultations, ensuring continuous care during and after in-person visits.\n",
       "\n",
       "7. **Engagement and Education Tools**:\n",
       "   - **Health Literacy Resources**: Provide patients with access to tailored educational materials based on their conditions and treatment plans to enhance understanding and adherence.\n",
       "   - **Gamification of Health Management**: Use gamified elements (e.g., health challenges, rewards) to motivate patients to engage with their health management actively.\n",
       "\n",
       "8. **Privacy and Compliance**:\n",
       "   - **Role-Based Access Control (RBAC)**: Ensure that only authorized personnel have access to sensitive data, enforcing strict data governance policies.\n",
       "   - **Regulatory Compliance**: Adhere to HIPAA and other regulations to protect patient privacy while facilitating data sharing.\n",
       "\n",
       "### Implementation Approach:\n",
       "\n",
       "1. **Partnership with Healthcare Systems**: Collaborate with hospitals, clinics, and EHR vendors to facilitate integration and data sharing.\n",
       "  \n",
       "2. **Pilot Programs**: Start with pilot programs in diverse healthcare settings to gather feedback and refine the platform before broader deployment.\n",
       "\n",
       "3. **Training and Support**: Provide comprehensive training for healthcare providers and robust support for patients to maximize platform adoption and effectiveness.\n",
       "\n",
       "### Expected Outcomes:\n",
       "\n",
       "By implementing the HealthSynergy AI Platform, the healthcare ecosystem can expect:\n",
       "- Improved care coordination and continuity, leading to better patient outcomes.\n",
       "- Enhanced patient engagement and satisfaction through empowerment and transparency.\n",
       "- Reduced medication errors and redundant tests, resulting in more efficient use of healthcare resources.\n",
       "- Greater insights into population health trends, enabling proactive community health management.\n",
       "\n",
       "This Agentic AI solution aims to create a comprehensive, patient-centered healthcare environment that addresses the challenges posed by data fragmentation and fosters better health outcomes through effective collaboration and technology integration."
      ],
      "text/plain": [
       "<IPython.core.display.Markdown object>"
      ]
     },
     "metadata": {},
     "output_type": "display_data"
    }
   ],
   "source": [
    "response4 = response3.choices[0].message.content\n",
    "display(Markdown(response4))"
   ]
  },
  {
   "cell_type": "markdown",
   "id": "f2a380ec",
   "metadata": {},
   "source": []
  }
 ],
 "metadata": {
  "kernelspec": {
   "display_name": ".venv",
   "language": "python",
   "name": "python3"
  },
  "language_info": {
   "codemirror_mode": {
    "name": "ipython",
    "version": 3
   },
   "file_extension": ".py",
   "mimetype": "text/x-python",
   "name": "python",
   "nbconvert_exporter": "python",
   "pygments_lexer": "ipython3",
   "version": "3.11.3"
  }
 },
 "nbformat": 4,
 "nbformat_minor": 5
}
