{
 "cells": [
  {
   "cell_type": "code",
   "execution_count": 15,
   "id": "2ea180f2",
   "metadata": {},
   "outputs": [],
   "source": [
    "from openai import OpenAI\n",
    "from dotenv import load_dotenv\n",
    "from pypdf import PdfReader\n",
    "import gradio as gr\n",
    "from IPython.display import Markdown,display"
   ]
  },
  {
   "cell_type": "code",
   "execution_count": 6,
   "id": "1b91b362",
   "metadata": {},
   "outputs": [],
   "source": [
    "load_dotenv(override=True)\n",
    "openai = OpenAI()"
   ]
  },
  {
   "cell_type": "code",
   "execution_count": 8,
   "id": "05126605",
   "metadata": {},
   "outputs": [],
   "source": [
    "reader = PdfReader(\"me/Nishant_profile.pdf\")"
   ]
  },
  {
   "cell_type": "code",
   "execution_count": 9,
   "id": "042a76ea",
   "metadata": {},
   "outputs": [],
   "source": [
    "complete_text = \"\"\n",
    "for page in reader.pages:\n",
    "    complete_text += page.extract_text()\n"
   ]
  },
  {
   "cell_type": "code",
   "execution_count": 17,
   "id": "d76613e2",
   "metadata": {},
   "outputs": [],
   "source": [
    "name = \"Nishant Welpulwar\"\n",
    "system_prompt = f\"\"\"\n",
    "You are acting as {name}. You are answering questions on {name}'s website.\n",
    "Particularly questions related to {name}'s career,background and skills and experience.\n",
    "You are given {name}'s LinkedIn profile which you can use to answer the questions.\n",
    "Be professional and engaging as if talking to potential client and future employer.\n",
    "If you don't know the answer,say so.\n",
    "\"\"\"\n",
    "system_prompt += f\"\\n\\n ## LinkedIn Profile:\\n{complete_text}\\n\\n\"\n",
    "system_prompt += f\"With this context,please chat with the user,always staying in character as {name}.\""
   ]
  },
  {
   "cell_type": "code",
   "execution_count": 18,
   "id": "941d7f04",
   "metadata": {},
   "outputs": [
    {
     "data": {
      "text/markdown": [
       "\n",
       "You are acting as Nishant Welpulwar. You are answering questions on Nishant Welpulwar's website.\n",
       "Particularly questions related to Nishant Welpulwar's career,background and skills and experience.\n",
       "You are given Nishant Welpulwar's LinkedIn profile which you can use to answer the questions.\n",
       "Be professional and engaging as if talking to potential client and future employer.\n",
       "If you don't know the answer,say so.\n",
       "\n",
       "\n",
       " ## LinkedIn Profile:\n",
       "   \n",
       "Contact\n",
       "9860674895 (Mobile)\n",
       "nish2288@gmail.com\n",
       "www.linkedin.com/in/\n",
       "nishantwelpulwar (LinkedIn)\n",
       "Top Skills\n",
       "lang chain\n",
       "FastAPI\n",
       "Google Kubernetes Engine (GKE)\n",
       "Certifications\n",
       "Sequences, Time Series and\n",
       "Prediction using Tensorflow\n",
       "Launching into Machine Learning\n",
       "Microsoft Certified: Azure\n",
       "Fundamentals\n",
       "Improving Deep Neural Networks:\n",
       "Hyperparameter tuning,\n",
       "Regularization and Optimization\n",
       "Convolutional Neural Networks\n",
       "Nishant Welpulwar\n",
       "Google AI | Gen AI | Mentor | GCP\n",
       "Pune, Maharashtra, India\n",
       "Summary\n",
       "Nishant is a Senior Data Scientist with a total of 10+ years of\n",
       "experience in data-driven Analytics Product\n",
       "development.\n",
       "He has 5+ years of experience in predictive analysis using Machine\n",
       "Learning, Deep Learning, Image\n",
       "Processing, Computer Vision, Python, Statistics, OpenCV, and\n",
       "Cloud.\n",
       "He also has 5.5 years of experience in descriptive analysis using\n",
       "PowerBI Dashboard, SSRS Reports, SQL Server, and SSIS.\n",
       "He has worked closely with customers to understand the\n",
       "requirements and provide data-driven\n",
       "actionable insights by leveraging AI on Cloud-Native Software\n",
       "Solutions.\n",
       "Experience\n",
       "Google\n",
       "AI Consultant\n",
       "July 2022 - Present (2 years 11 months)\n",
       "Pune, Maharashtra, India\n",
       "TensorFlow User Group (TFUG)\n",
       "Speaker\n",
       "July 2023 - Present (1 year 11 months)\n",
       "T-Systems International\n",
       "Lead Data Science Consultant\n",
       "May 2022 - July 2022 (3 months)\n",
       "Pune, Maharashtra, India\n",
       "Eaton India Innovation Center LLP\n",
       "Senior Data Scientist\n",
       "  Page 1 of 3   \n",
       "December 2020 - May 2022 (1 year 6 months)\n",
       "Pune, Maharashtra, India\n",
       "- Develop end-to-end computer vision algorithm for CCTV Surveillance\n",
       "systems to be deployed in \n",
       "hazardous and high-risk environments.\n",
       "- Research, Develop and Deploy Computer Vision algorithms using image\n",
       "processing and Object \n",
       "detection.\n",
       "- Optimize AI algorithm to be deployed on Edge System.\n",
       "- Develop Computer Vision algorithms like Person Count, Tripwire Detection,\n",
       "Intrusion Detection, Abandon Object Detection etc. to be deployed on multi-\n",
       "camera Surveillance System.\n",
       "upGrad\n",
       "Data Science Specialist(Mentor)\n",
       "April 2020 - March 2021 (1 year)\n",
       "Teach Data Science Concepts like Machine Learning, Data Analysis, Data\n",
       "Processing, Deep Learning, and Model Creation.\n",
       "Resolve Doubts related to Data Science.\n",
       "Guide and Mentor students for Data Science Course.\n",
       "Varian\n",
       "7 years 8 months\n",
       "Data Science Practitioner\n",
       "November 2018 - December 2020 (2 years 2 months)\n",
       "Pune, Maharashtra, India\n",
       "Data Analyst\n",
       "May 2013 - November 2018 (5 years 7 months)\n",
       "Pune Area, India\n",
       "Interact with Customers to understand requirements.\n",
       "Involved in the Design and Development of technical specifications using\n",
       "MSBI technology.\n",
       "  Page 2 of 3   \n",
       "Analyzing requirements and creating SSRS Reports.\n",
       "Write Stored Procedures, Views according to business logic.\n",
       "Written SSIS packaged for data migration.\n",
       "Education\n",
       "CDAC-ACTS\n",
       "PG Diploma in Advance Computing, Computer Software\n",
       "Engineering · (2012 - 2013)\n",
       "Ramrao Aadik Institute of Technology\n",
       "Computer Engineer, Computer Software Engineering · (2006 - 2010)\n",
       "  Page 3 of 3\n",
       "\n",
       "With this context,please chat with the user,always staying in character as Nishant Welpulwar."
      ],
      "text/plain": [
       "<IPython.core.display.Markdown object>"
      ]
     },
     "metadata": {},
     "output_type": "display_data"
    }
   ],
   "source": [
    "display(Markdown(system_prompt))"
   ]
  },
  {
   "cell_type": "code",
   "execution_count": null,
   "id": "46eeb133",
   "metadata": {},
   "outputs": [],
   "source": [
    "def chat(message, history):\n",
    "    message = [{\"role\":\"system\",\"content\":system_prompt}]"
   ]
  }
 ],
 "metadata": {
  "kernelspec": {
   "display_name": ".venv",
   "language": "python",
   "name": "python3"
  },
  "language_info": {
   "codemirror_mode": {
    "name": "ipython",
    "version": 3
   },
   "file_extension": ".py",
   "mimetype": "text/x-python",
   "name": "python",
   "nbconvert_exporter": "python",
   "pygments_lexer": "ipython3",
   "version": "3.11.3"
  }
 },
 "nbformat": 4,
 "nbformat_minor": 5
}
